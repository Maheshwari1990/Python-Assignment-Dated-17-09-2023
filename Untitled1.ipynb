{
 "cells": [
  {
   "cell_type": "code",
   "execution_count": 1,
   "id": "3b6c12e0-e114-4801-a866-01ab0399be19",
   "metadata": {},
   "outputs": [
    {
     "name": "stdout",
     "output_type": "stream",
     "text": [
      "How are you?\n"
     ]
    }
   ],
   "source": [
    "message = \"How are you?\"\n",
    "print (message)"
   ]
  },
  {
   "cell_type": "code",
   "execution_count": 2,
   "id": "93f0e5ea-3531-41d0-9a92-dd233c1fa21b",
   "metadata": {
    "tags": []
   },
   "outputs": [
    {
     "name": "stdout",
     "output_type": "stream",
     "text": [
      "I am doing good, How about you?\n"
     ]
    }
   ],
   "source": [
    "message = \"I am doing good, How about you?\"\n",
    "print (message)"
   ]
  },
  {
   "cell_type": "code",
   "execution_count": 5,
   "id": "5d8ae167-9eac-42c3-8ba6-e521a6edcee1",
   "metadata": {
    "tags": []
   },
   "outputs": [
    {
     "name": "stdin",
     "output_type": "stream",
     "text": [
      "Rahul ,would you like to learn python today ?\n"
     ]
    },
    {
     "name": "stdout",
     "output_type": "stream",
     "text": [
      "<bound method Kernel.raw_input of <ipykernel.ipkernel.IPythonKernel object at 0x00000261917F0590>>\n"
     ]
    }
   ],
   "source": [
    "input(\"Rahul\")\n",
    "print (input)"
   ]
  },
  {
   "cell_type": "code",
   "execution_count": 51,
   "id": "fd6f1cf3-7b10-4f82-b5c1-803c41f27e04",
   "metadata": {
    "tags": []
   },
   "outputs": [
    {
     "name": "stdin",
     "output_type": "stream",
     "text": [
      "Albert Einstein once said, \n"
     ]
    },
    {
     "name": "stdout",
     "output_type": "stream",
     "text": [
      "\n",
      "A person who never made a mistake have never tried anything new.\n"
     ]
    }
   ],
   "source": [
    "message = input (\"Albert Einstein once said,\")\n",
    "print (message)\n",
    "message = \"A person who never made a mistake have never tried anything new.\"\n",
    "print (message)"
   ]
  },
  {
   "cell_type": "code",
   "execution_count": 33,
   "id": "448124a8-44a8-4212-9270-a7f79dd7107f",
   "metadata": {
    "tags": []
   },
   "outputs": [
    {
     "name": "stdout",
     "output_type": "stream",
     "text": [
      "Albert Einstein once said,\" A person who never made a mistake never tried anythng new.\"\n"
     ]
    }
   ],
   "source": [
    "famous_person = \"Albert Einstein\"\n",
    "message = f'{famous_person} once said,\" A person who never made a mistake never tried anythng new.\"'\n",
    "print (message)"
   ]
  },
  {
   "cell_type": "code",
   "execution_count": 36,
   "id": "cdb3061d-52b8-4bf9-b52c-8d283c199eaf",
   "metadata": {
    "tags": []
   },
   "outputs": [
    {
     "name": "stdout",
     "output_type": "stream",
     "text": [
      "8\n"
     ]
    }
   ],
   "source": [
    "x = 5+3\n",
    "print (x)"
   ]
  },
  {
   "cell_type": "code",
   "execution_count": 37,
   "id": "6d9762b9-56b3-4826-b3c3-9abce278fb27",
   "metadata": {
    "tags": []
   },
   "outputs": [
    {
     "name": "stdout",
     "output_type": "stream",
     "text": [
      "8\n"
     ]
    }
   ],
   "source": [
    "y = (10-2)\n",
    "print (y)"
   ]
  },
  {
   "cell_type": "code",
   "execution_count": 38,
   "id": "28062082-1a76-4dc3-b846-fb40a2f55a3e",
   "metadata": {
    "tags": []
   },
   "outputs": [
    {
     "name": "stdout",
     "output_type": "stream",
     "text": [
      "8\n"
     ]
    }
   ],
   "source": [
    "a = (4*2)\n",
    "print (a)"
   ]
  },
  {
   "cell_type": "code",
   "execution_count": 39,
   "id": "aed08130-f14a-4c33-81de-9b6a13c8bf60",
   "metadata": {
    "tags": []
   },
   "outputs": [
    {
     "name": "stdout",
     "output_type": "stream",
     "text": [
      "8.0\n"
     ]
    }
   ],
   "source": [
    "b= (16/2)\n",
    "print (b)"
   ]
  },
  {
   "cell_type": "code",
   "execution_count": 45,
   "id": "48b21e52-95ef-4bfd-affb-3199710980ab",
   "metadata": {
    "tags": []
   },
   "outputs": [
    {
     "name": "stdin",
     "output_type": "stream",
     "text": [
      "what is your favourite number ? \n"
     ]
    },
    {
     "name": "stdout",
     "output_type": "stream",
     "text": [
      "\n",
      "My favourite number is 16.\n"
     ]
    }
   ],
   "source": [
    "number = input (\"what is your favourite number ?\")\n",
    "message = \"My favourite number is 16.\"\n",
    "print (number)\n",
    "print (message)"
   ]
  },
  {
   "cell_type": "code",
   "execution_count": 52,
   "id": "fefb0ece-cd65-465f-b900-d91fdb2c40c7",
   "metadata": {
    "tags": []
   },
   "outputs": [
    {
     "name": "stdout",
     "output_type": "stream",
     "text": [
      "My favourite number is 16.\n"
     ]
    }
   ],
   "source": [
    "fav_num = 16\n",
    "message = f\"My favourite number is {fav_num}.\"\n",
    "print (message)"
   ]
  },
  {
   "cell_type": "code",
   "execution_count": 57,
   "id": "d1186789-3482-4418-9389-10a276d01746",
   "metadata": {
    "tags": []
   },
   "outputs": [
    {
     "name": "stdout",
     "output_type": "stream",
     "text": [
      "sita\n",
      "gita\n",
      "nita\n"
     ]
    }
   ],
   "source": [
    "names = ['sita', 'gita', 'nita']\n",
    "\n",
    "print(names[0])\n",
    "print(names[1])\n",
    "print(names[2])\n"
   ]
  },
  {
   "cell_type": "code",
   "execution_count": 58,
   "id": "289efc3a-3486-44bb-b104-21f9f7ed4364",
   "metadata": {
    "tags": []
   },
   "outputs": [
    {
     "name": "stdout",
     "output_type": "stream",
     "text": [
      "hello, Sita!\n",
      "hello, Gita!\n",
      "hello, Nita!\n"
     ]
    }
   ],
   "source": [
    "names = ['sita', 'gita', 'nita']\n",
    "msg = f\"hello, {names[0].title()}!\"\n",
    "print (msg)\n",
    "\n",
    "msg = f\"hello, {names[1].title()}!\"\n",
    "print (msg)\n",
    "\n",
    "msg= f\"hello, {names[2].title()}!\"\n",
    "print (msg)"
   ]
  },
  {
   "cell_type": "code",
   "execution_count": 62,
   "id": "4a97c406-f0c3-4422-a0b2-49962bfad4a1",
   "metadata": {
    "tags": []
   },
   "outputs": [
    {
     "name": "stdout",
     "output_type": "stream",
     "text": [
      "oh, You really like Honda!\n",
      "oh, You really like Harrier!\n"
     ]
    }
   ],
   "source": [
    "cars = ['Mercedes', 'Honda', 'Harrier', 'Audi']\n",
    "\n",
    "if 'Mecedes' in cars:\n",
    "    print (\"Oh, You really like Mercedes!\")\n",
    "    \n",
    "if 'Honda' in cars:\n",
    "    print (\"oh, You really like Honda!\")\n",
    "    \n",
    "if 'Harrier' in cars:\n",
    "    print (\"oh, You really like Harrier!\")"
   ]
  },
  {
   "cell_type": "code",
   "execution_count": null,
   "id": "6e2ab78b-c7b8-41f6-862a-68d8379fb870",
   "metadata": {},
   "outputs": [],
   "source": []
  }
 ],
 "metadata": {
  "kernelspec": {
   "display_name": "Python 3 (ipykernel)",
   "language": "python",
   "name": "python3"
  },
  "language_info": {
   "codemirror_mode": {
    "name": "ipython",
    "version": 3
   },
   "file_extension": ".py",
   "mimetype": "text/x-python",
   "name": "python",
   "nbconvert_exporter": "python",
   "pygments_lexer": "ipython3",
   "version": "3.11.4"
  }
 },
 "nbformat": 4,
 "nbformat_minor": 5
}
